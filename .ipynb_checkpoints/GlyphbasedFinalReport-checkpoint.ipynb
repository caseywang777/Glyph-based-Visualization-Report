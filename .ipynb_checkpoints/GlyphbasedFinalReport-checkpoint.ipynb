{
 "cells": [
  {
   "cell_type": "markdown",
   "metadata": {},
   "source": [
    "#Glyph-based Universe Visualization"
   ]
  },
  {
   "cell_type": "markdown",
   "metadata": {},
   "source": [
    "####Team members: \n",
    "    Chris Jocobsen, Xin Tong, Ko-Chih Wang, Hujing Zhang"
   ]
  },
  {
   "cell_type": "markdown",
   "metadata": {
    "collapsed": true
   },
   "source": [
    "<img style=\"float: left\" src=\"titleImage.png\" /> <img style=\"float: center\" src=\"titleImage2.png\" />\n"
   ]
  },
  {
   "cell_type": "markdown",
   "metadata": {},
   "source": [
    "##Outline"
   ]
  },
  {
   "cell_type": "markdown",
   "metadata": {},
   "source": [
    "* <a href='#introduction'>Introduction</a>\n",
    "* <a href='#dataloading'>Data Loading</a>\n",
    "* <a href='#glyphbased'>Glyph-based Visualization</a>\n",
    "* <a href='#interface'>Interface</a>\n",
    "* <a href='#particleRendering'>Particle Rendering</a>\n",
    "* <a href='#conclusion'>Conclusion</a>\n"
   ]
  },
  {
   "cell_type": "markdown",
   "metadata": {},
   "source": [
    "<a id='introduction'></a>\n",
    "##Introduction"
   ]
  },
  {
   "cell_type": "markdown",
   "metadata": {},
   "source": [
    "    [Xin, professor ask that why scientists want to know the velocities of the particles of a halo...if you have any idea, please add the explaination in the introduction or glyph-based visualization section]Cosmological simulation produces massive data which is challenging to analyze and visualize. Identifying dark matter halos, which correspond to galaxies and clusters of galaxies, from a large number of particles is an active topic in cosmology. Earlier halo finding algorithms, such as FOF~\\cite{Davis1985}, use the 3-dimensional (3D) particle locations as data input. The 6DFOF algorithm ~\\cite{Maciejewski2009} improves the results by including particle velocity information as another 3 dimensions. The latest algorithm, Rockstar~\\cite{Behroozi2011}, incorporates time as one additional dimension (7D in total) to allow robust tracking of halos and again improve the halo finding results.\n",
    "\n",
    "    Current visualization mainly focuses on visualizing the locations of halos and the animation of halo locations over time but rarely visualizes its velocity. However, as an important factor in a  halo finding algorithm, visualizing the velocities of halos becomes important in the cosmology analysis. Woodring \\emph{et~al.}~\\cite{Woodring2011} uses oriented ellipsoids to visualize the velocities and their uncertainty in ParaView software. Ellipsoids express an overview of the vector field in a halo, but they have limited uncertainty information and suffer from asymmetry and visual ambiguity as mentioned by Kindlmann~\\cite{Kindlmann2004}. \n",
    "\n",
    "    In this project, we propose a distribution-based superquadric glyph technique to visualize the velocity field of the halo. We use surface color texture to show the histogram of the vector field within a halo and use the glyph shape to show the principal components of the distribution as an overview. This glyph-based visualization system also allow users to navigate through the space interactively and hierarchically."
   ]
  },
  {
   "cell_type": "markdown",
   "metadata": {},
   "source": [
    "<a id='dataloading'></a>\n",
    "##Data Loading"
   ]
  },
  {
   "cell_type": "markdown",
   "metadata": {},
   "source": [
    "    The first step of this project is to understand the format of cosmological data. The data set provided by VisConstest 2015 is a 11GByte dataset. It includes 100 time steps particle data and 89 time steps halo information and one file describes how the halos split and merge over time. Because our project uses the superquadric to visualize the velocities of particles belong to a halo, the first step is to use the particle and halo data sets to identifies the relation between halos and particle. However, the coordinate system between the particle and halo files are different. We use the following code to convert the particle into halo coordinate system.\n",
    "    \n",
    "        if (i=0; i<n; i++) {\n",
    "          printf(\"hello %d\\n\", i);\n",
    "          x += 4;\n",
    "        }\n",
    "        \n",
    "    The xx is the particle coordinate and what is what.\n",
    "    We use the particle location, halo center and the halo radius to define whether a particle belongs to a halo. The radius of the halo is also need to convert by the following code.\n",
    "    \n",
    "        if (i=0; i<n; i++) {\n",
    "          printf(\"hello %d\\n\", i);\n",
    "          x += 4;\n",
    "        }\n",
    "        \n",
    "    After the conversion, we create the relation between the particles and halos. We also have the set of velocities of particls belongs to a halo. This is used to compute the shpae and color texture of the glyphs and visualize the halo in the next section.\n",
    "    \n",
    "    In addition, we also collect the attritubes (what halo the particle belongs to, velocity, halo radius and density) of the particles. This information is used to render the particle in <a href='#particleRendering'>Particle Rendering</a> section. The collection process of velocity of particles, halo ID and radius have been described. Here, we introduce how we define and compute the density attribue of a particle. The density of the particle is an useful information to define the opacity or color of a particle when rendering the particle. For example, we can give the particle with high desnsity attribue the high opacity becuase high density region means there are more particles and it could be a halo or will form a halo. The way to define the density attribute of particles is to compute the number of particle in the local region. We divide the whole space into 500x500x500 grids and compute the number of particles in a single cube to define the density attribute of particles belong to the cube. \n",
    "    \n",
    "    After we finish the data loading step and preprocess, we use the data structure and outputing files to render the glyphs and particles without reloading the raw data and process again. It makes the rendering efficient and system interactive. "
   ]
  },
  {
   "cell_type": "markdown",
   "metadata": {},
   "source": [
    "<a id='glyphbased'></a>\n",
    "##Glyph-Based Visualization"
   ]
  },
  {
   "cell_type": "markdown",
   "metadata": {},
   "source": [
    "    Superdradric Visualization Demonstration\n",
    "<iframe width=\"853\" height=\"480\" src=\"https://www.youtube.com/embed/wC8WhLhtouw\" frameborder=\"0\" allowfullscreen></iframe>"
   ]
  },
  {
   "cell_type": "code",
   "execution_count": null,
   "metadata": {
    "collapsed": true
   },
   "outputs": [],
   "source": [
    "    "
   ]
  },
  {
   "cell_type": "markdown",
   "metadata": {},
   "source": [
    "<a id='interface'></a>\n",
    "##Interface"
   ]
  },
  {
   "cell_type": "markdown",
   "metadata": {},
   "source": [
    "<a id='particleRendering'></a>\n",
    "##Particle Rendering\n",
    "    \n",
    "We consider the other possible way to visualize the trend of velocity in the space to scientists. We would like to visualize the velocity treand of the space by a relatively simple way, plot the velocity of particle by different color. The first step of this visualization is to decide transfer function for this particle rendering. In order to render the velocity of particle to make scientist percept the velocity trend in the space. We decide to use the velocity of each particle to define the color. In our approach, for every velocity vector \n",
    "$v$, we normalize each element of velocity to $[0, 1]$ and get new vector $v'$. We directly use the new vector $v'$ as color to the particle. To visulize this design, we can see the following figure.\n",
    "\n",
    "<img src=\"colorcube.png\" />\n",
    "\n",
    "In the image, it illustrate the color mapping from the $v'$ to the color. The corner closest to viewer is the vector $[0,0,0]$ and the corner far away from the view is $[1,1,1]$. We can see that the color gradually change from the closest corner to farthest corner. When we use this color map to plot the particle color, it shows the similar color it the particles have similar velocity. It help the scientist to have a velocity overview over the space. For the opacity transfer function, we use the density attribute of the particle to defined it. This make the particle in the high density region is more visible becuase usually the density region is possible to be a halo or interesting area. \n",
    "\n",
    "In the particle rendering, we also use the make the system be able to visualize the velocity of particles over time. In the animation of the demonstration, we can see that the overall space is divided into several big block by color. It means that the particles in local region of the space usually move along the similar direction.\n",
    "\n",
    "In the following demonstration, we also visualize the particles by other attributes. For example, visualizing the particle by radius of halo or halo ID it belongs to."
   ]
  },
  {
   "cell_type": "markdown",
   "metadata": {},
   "source": [
    "###Demonstration    \n",
    "    \n",
    "    Note: For the following demonstrations, we strongly recommand to use the setting to change the quality to highest video resolution.\n",
    "    \n",
    "    Volocity of Particle Animation: we use the transfer function which is described in the previous section to animate the velocity trend of the space. \n",
    "\n",
    "<iframe width=\"853\" height=\"480\" src=\"https://www.youtube.com/embed/WGzmbIcy4PI\" frameborder=\"0\" allowfullscreen></iframe>\n",
    "\n",
    "    Halo Merge&Split Visulized by Particle Velocity: in this animation, zoom in to small part of the universe and we can see the process of halo mering and spliting.\n",
    "\n",
    "<iframe width=\"853\" height=\"480\" src=\"https://www.youtube.com/embed/yntgi89q0vc\" frameborder=\"0\" allowfullscreen></iframe>\n",
    "\n",
    "    Color by Halo ID: in this animation, we use the halo ID to color the particle. If a particle does not belong to any halo, we use purple to show the particle. The opacity of particle is also defined by density attribute of particle.\n",
    "    \n",
    "<iframe width=\"853\" height=\"480\" src=\"https://www.youtube.com/embed/bi981qOOdxw\" frameborder=\"0\" allowfullscreen></iframe>"
   ]
  },
  {
   "cell_type": "markdown",
   "metadata": {},
   "source": [
    "<a id='conclusion'></a>\n",
    "##Conclusion\n",
    "\n",
    "    talk about the conslusion"
   ]
  }
 ],
 "metadata": {
  "kernelspec": {
   "display_name": "Python 2",
   "language": "python",
   "name": "python2"
  },
  "language_info": {
   "codemirror_mode": {
    "name": "ipython",
    "version": 2
   },
   "file_extension": ".py",
   "mimetype": "text/x-python",
   "name": "python",
   "nbconvert_exporter": "python",
   "pygments_lexer": "ipython2",
   "version": "2.7.9"
  }
 },
 "nbformat": 4,
 "nbformat_minor": 0
}
