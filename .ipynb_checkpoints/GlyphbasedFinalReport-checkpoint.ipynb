{
 "cells": [
  {
   "cell_type": "markdown",
   "metadata": {},
   "source": [
    "#Glyph-based Universe Visualization"
   ]
  },
  {
   "cell_type": "markdown",
   "metadata": {},
   "source": [
    "####Team members: \n",
    "    Chris Jacobsen, Xin Tong, Ko-Chih Wang, Huijie Zhang:"
   ]
  },
  {
   "cell_type": "markdown",
   "metadata": {
    "collapsed": true
   },
   "source": [
    "<img style=\"float: left\" src=\"titleImage.png\" /> <img style=\"float: center\" src=\"titleImage2.png\" />\n"
   ]
  },
  {
   "cell_type": "markdown",
   "metadata": {},
   "source": [
    "##Outline"
   ]
  },
  {
   "cell_type": "markdown",
   "metadata": {},
   "source": [
    "* <a href='#introduction'>Introduction</a>\n",
    "* <a href='#dataloading'>Data Loading</a>\n",
    "* <a href='#glyphbased'>Glyph-based Visualization</a>\n",
    "* <a href='#interface'>Interface</a>\n",
    "* <a href='#particleRendering'>Particle Rendering</a>\n",
    "* <a href='#conclusions'>Conclusions and Future Work</a>\n",
    "* <a href='#references'>References / Code Borrowed</a>\n"
   ]
  },
  {
   "cell_type": "markdown",
   "metadata": {},
   "source": [
    "<a id='introduction'></a>\n",
    "##Introduction"
   ]
  },
  {
   "cell_type": "markdown",
   "metadata": {},
   "source": [
    "   [Xin, professor ask that why scientists want to know the velocities of the particles of a halo...if you have any idea, please add the explanation in the introduction or glyph-based visualization section]Cosmological simulations produce massive data which is challenging to analyze and visualize. Identifying dark matter halos, which correspond to galaxies and clusters of galaxies, from a large number of particles is an active topic in cosmology. Earlier halo finding algorithms, such as FOF~\\cite{Davis1985}, use the 3-dimensional (3D) particle locations as data input. The 6DFOF algorithm ~\\cite{Maciejewski2009} improves the results by including particle velocity information as another 3 dimensions. The latest algorithm, Rockstar~\\cite{Behroozi2011}, incorporates time as one additional dimension (7D in total) to allow robust tracking of halos and again improve the halo finding results.\n",
    "\n",
    "   Current visualization mainly focuses on visualizing the locations of halos and the animation of halo locations over time but rarely visualizes its velocity. However, as an important factor in a  halo finding algorithm, visualizing the velocities of halos becomes important in the cosmology analysis. Woodring \\emph{et~al.}~\\cite{Woodring2011} uses oriented ellipsoids to visualize the velocities and their uncertainty in ParaView software. Ellipsoids express an overview of the vector field in a halo, but they have limited uncertainty information and suffer from asymmetry and visual ambiguity as mentioned by Kindlmann~\\cite{Kindlmann2004}. \n",
    "    \n",
    "   In this project, we propose a distribution-based superquadric glyph technique to visualize the velocity field of the halo. We use surface color texture to show the histogram of the vector field within a halo and use the glyph shape to show the principal components of the distribution as an overview. This glyph-based visualization system also allows users to navigate through the space interactively and hierarchically.\n",
    "   \n",
    "   We also explore various ways to visualize the merge tree.  We construct a widget representing this tree, using it as a tool to select different time steps to view for the super quadric data, while locating and highlighting the corresponding selected halo (shown as a superquadric) in the scene."
   ]
  },
  {
   "cell_type": "markdown",
   "metadata": {},
   "source": [
    "<a id='dataloading'></a>\n",
    "##Data Loading"
   ]
  },
  {
   "cell_type": "markdown",
   "metadata": {},
   "source": [
    "###Halo data loading\n",
    "\n",
    "   The first step of this project is to understand the format of the cosmological data. The data set provided by VisConstest 2015 is an 11 GByte dataset. It includes 100 time steps of particle data and 89 time steps of halo information, and one file describes how the halos split and merge over time. Because our project uses superquadrics to visualize the velocities of particles belonging to a halo, the first step is to use the particle and halo data sets to identify the relation between halos and particles. However, the coordinate system between the particle and halo files are different. We use the following code to convert the particles into the halo coordinate system.\n",
    "    \n",
    "        if (i=0; i<n; i++) {\n",
    "          printf(\"hello %d\\n\", i);\n",
    "          x += 4;\n",
    "        }\n",
    "        \n",
    "   The xx is the particle coordinate and what is what.\n",
    "   We use the particle location, halo center and the halo radius to define whether a particle belongs to a halo. The radius of the halo is also need to convert by the following code.\n",
    "    \n",
    "        if (i=0; i<n; i++) {\n",
    "          printf(\"hello %d\\n\", i);\n",
    "          x += 4;\n",
    "        }\n",
    "        \n",
    "   After the conversion, we create the relation between the particles and halos. We also have the set of velocities of particles belonging to a halo. This is used to compute the shape and color texture of the glyphs and visualize the halo in the next section.\n",
    "    \n",
    "   In addition, we also collect the attributes (what halo it belongs to, velocity, halo radius and density) of the particles. This information is used to render the particle in <a href='#particleRendering'>Particle Rendering</a> section. The collection process of velocity of particles, halo ID and radius have been described. Here, we introduce how we compute the density of a particle. The density of the particle is a useful piece of information to define the opacity or color of a particle when rendering the particle. For example, we can give a high density particle a high opacity because a high density region means there are more particles, and it could be a halo or will form a halo. The way to define the density of particles is to compute the number of particles in the local region. We divide the whole space into a 500x500x500 grid and compute the number of particles in a single cube to define the density of particles belonging to the cube. \n",
    "    \n",
    "   After we finish the data loading and preprocessing step, we use the data structure and files to render the glyphs and particles without reloading the raw data and reprocessing. It makes the rendering efficient and the system interactive. \n",
    "   \n",
    "### Merge Tree data loading\n",
    "\n",
    "   The python flow reads the Dark Sky tree data file, working backwards in time from timestep 1.0 to the earliest time step for each listed merge tree.  For each halo id, it finds each of the halo records who cite the id as a descendant.  The original halo (at a later time step) becomes a parent node while the others become children in a tree structure.  Since each parent can have multiple children, it is analogous to a b-tree, though the tree stucture does not reorganize itself based on values.\n",
    "   \n",
    "   The structure of the tree is output to a text file in an in-order traversal ordering.  Counts are stored for the number of children for each parent in order to handle an abritrary number of children.  This ordering is then used to rebuild the tree by the C++ application."
   ]
  },
  {
   "cell_type": "markdown",
   "metadata": {},
   "source": [
    "<a id='glyphbased'></a>\n",
    "##Glyph-Based Visualization"
   ]
  },
  {
   "cell_type": "markdown",
   "metadata": {},
   "source": [
    "    Superquadric Visualization Demonstration\n",
    "<iframe width=\"853\" height=\"480\" src=\"https://www.youtube.com/embed/wC8WhLhtouw\" frameborder=\"0\" allowfullscreen></iframe>"
   ]
  },
  {
   "cell_type": "markdown",
   "metadata": {
    "collapsed": true
   },
   "source": [
    "<a id='interface'></a>\n",
    "##Interface\n"
   ]
  },
  {
   "cell_type": "markdown",
   "metadata": {},
   "source": [
    "###Merge Tree Widget\n",
    "   \n",
    "   In our application, we provide a merge tree visualization widget.  This widget both serves the purpose of visualizing the merge tree structure and acting as a time step selection tool.\n",
    "   \n",
    "   The component displays five timesteps starting from a starting step.  The \"master tree\" is cut off, beginning at this point, forming a series of subtrees in a forest.  The starting halo id for each of these is displayed in a dropdown box.  When the user selects one of these ids from the dropdown box, the subtree is then loaded into the merge tree widget,showing five timesteps.  The halo id for each node in the tree is shown, with the timestep marked in parentheses. \n",
    "   \n",
    "   The user sees these different ids by expanding the nodes in the component.  As a node is expanded, the superquadric halo data is loaded into the scene if the data has been generated by the Python flow.  This allows the merge tree component to act as a timestep selection tool.  The corresponding halo is then highlighted with a yellow box in the scnee.  Thus the widget also acts as a tool to hunt for halos from the merge tree across different time steps.\n",
    "   \n",
    "   The widget itself is based on JSon; we modified the JSon widget at (http://codereview.stackexchange.com/questions/11849/qjsonview-a-qwidget-based-json-explorer-for-qt) to serve our needs. Our application constructs a JSon representation of the data and feeds it to the widget.  The merge tree structure and halo structure records are both maintained by hash tables.  When a selection is made in the JSon widget, it finds the Merge Tree structure record by looking up the halo id in the hash table.  It is then able to find the halo in the scene by looking it up in the halo record hash table.\n",
    "   \n",
    "###General User Interface\n",
    "\n",
    "   Basic options for rotating and zooming are provided.  The user can rotate the scene by clicking and dragging the left mouse button and can zoom in and out using the scroll wheel on the mouse.  This allows the user to choose a view that works well for viewing the super quadric detail."
   ]
  },
  {
   "cell_type": "markdown",
   "metadata": {},
   "source": [
    "<a id='particleRendering'></a>\n",
    "##Particle Rendering    \n",
    "We consider one other possible way to visualize the trend of velocity in the space to scientists. We would like to visualize the velocity trend of the space by a relatively simple way -- plot the velocity of particles by different colors. The first step of this visualization is to decide the transfer function for this particle rendering. This is done in order to render the velocity of particles to make scientists perceive the velocity trend in the space. We decide to use the velocity of each particle to define the color. In our approach, for every velocity vector \n",
    "$v$, we normalize each element of velocity to $[0, 1]$ and get the new vector $v'$. We directly use the new vector $v'$ as color to the particle. To visualize this design, we can see the following figure.\n",
    "\n",
    "<img src=\"colorcube.png\" />\n",
    "\n",
    "In the image, it illustrates the color mapping from the $v'$ to the color. The corner closest to the viewer is the vector $[0,0,0]$ and the corner farthest away from the view is $[1,1,1]$. We can see that the color gradually changes from the closest corner to the farthest corner. When we use this color map to plot the particle color, it shows the similar color if the particles have similar velocity. It helps the scientist to have a velocity overview over the space. For the opacity transfer function, we use the density attribute of the particle to define it. This makes the particle in the high density region more visible because usually the denser region is possibly a halo or interesting area. \n",
    "\n",
    "In the particle rendering, we also make the system be able to visualize the velocity of particles over time. In the animation of the demonstration, we can see that the overall space is divided into several big blocks by color. It means that the particles in the local region of the space usually move along a similar direction.\n",
    "\n",
    "In the following demonstration, we also visualize the particles by other attributes. For example, we visualize the particle by radius of halo or halo ID it belongs to."
   ]
  },
  {
   "cell_type": "markdown",
   "metadata": {},
   "source": [
    "###Demonstration    \n",
    "    \n",
    "   Note: For the following demonstrations, we strongly recommend to use the setting to change the quality to the highest video resolution.\n",
    "    \n",
    "   Velocity of Particle Animation: we use the transfer function which is described in the previous section to animate the velocity trend of the space. \n",
    "\n",
    "<iframe width=\"853\" height=\"480\" src=\"https://www.youtube.com/embed/WGzmbIcy4PI\" frameborder=\"0\" allowfullscreen></iframe>\n",
    "\n",
    "   Halo Merge&Split Visualized by Particle Velocity: in this animation, zoom in to small part of the universe and you can see the process of halo merging and splitting.\n",
    "\n",
    "<iframe width=\"853\" height=\"480\" src=\"https://www.youtube.com/embed/yntgi89q0vc\" frameborder=\"0\" allowfullscreen></iframe>\n",
    "\n",
    "   Color by Halo ID: in this animation, we use the halo ID to color the particle. If a particle does not belong to any halo, we use purple to show the particle. The opacity of particle is also defined by density attribute of particle.\n",
    "    \n",
    "<iframe width=\"853\" height=\"480\" src=\"https://www.youtube.com/embed/bi981qOOdxw\" frameborder=\"0\" allowfullscreen></iframe>\n",
    "\n",
    "   Merge Tree Usage: in this video, we use the merge tree to view two different subtrees.  We load several different time steps as we browse the tree and see the selected halos become hilighted in the scene.\n",
    "    \n",
    "<iframe width=\"853\" height=\"480\" src=\"https://www.youtube.com/embed/_g77RlXv-nI\" frameborder=\"0\" allowfullscreen></iframe>"
   ]
  },
  {
   "cell_type": "markdown",
   "metadata": {},
   "source": [
    "<a id='conclusions'></a>\n",
    "##Conclusions and Future Work"
   ]
  },
  {
   "cell_type": "markdown",
   "metadata": {},
   "source": [
    "   Although super quadrics require a bit of training for users, their ability to prevent occlusion and ability to summarize information with additional channels through their shape offer clear advantages.  Our integration of the tree widget to view data cross time steps with the view of super quadrics within one time step allows users to explore data and home in on items of interest.\n",
    "   \n",
    "   We are intending to combine the results of this project with an analysis of a separate data set, building a binary tree based on entropy splits.  It will be interesting to compare and contrast the super quadrics results between the two data sets in a research paper.  This also will give us opportunities to think about how an interactive tree widget can be used to explore a binary tree based on entropy.\n",
    "   \n",
    "   We also are interested in exploring additional tree visualization options.  We will probably give preference to the usage of the Graph Viz API, since this allows graphs to be generated for arbitrary graph structures.  We would use Graph Viz for the layout engine and then construct QT widgets based on the node positions.  We also are wanting to implement a tree map, which will allow a \"recursive view\" of the tree.\n",
    "    "
   ]
  },
  {
   "cell_type": "markdown",
   "metadata": {},
   "source": [
    "<a id='references'></a>\n",
    "##References / Code Borrowed"
   ]
  },
  {
   "cell_type": "markdown",
   "metadata": {},
   "source": [
    "* References\n",
    "    * Reference 1\n",
    "    * Reference 2\n",
    "    * Reference 3\n",
    "* Code\n",
    "    * JSon Widget Original Code- http://codereview.stackexchange.com/questions/11849/qjsonview-a-qwidget-based-json-explorer-for-qt\n",
    "    * Elastic Graph Visualization QT Widget (not currently used for the Dark Sky data but present in the code) - http://doc.qt.io/qt-5/qtwidgets-graphicsview-elasticnodes-example.html"
   ]
  },
  {
   "cell_type": "code",
   "execution_count": null,
   "metadata": {
    "collapsed": true
   },
   "outputs": [],
   "source": []
  }
 ],
 "metadata": {
  "kernelspec": {
   "display_name": "Python 2",
   "language": "python",
   "name": "python2"
  },
  "language_info": {
   "codemirror_mode": {
    "name": "ipython",
    "version": 2
   },
   "file_extension": ".py",
   "mimetype": "text/x-python",
   "name": "python",
   "nbconvert_exporter": "python",
   "pygments_lexer": "ipython2",
   "version": "2.7.9"
  }
 },
 "nbformat": 4,
 "nbformat_minor": 0
}
