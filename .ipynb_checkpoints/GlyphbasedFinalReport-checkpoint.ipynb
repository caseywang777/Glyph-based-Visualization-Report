{
 "cells": [
  {
   "cell_type": "markdown",
   "metadata": {},
   "source": [
    "#Glyph-based Universe Visualization"
   ]
  },
  {
   "cell_type": "markdown",
   "metadata": {},
   "source": [
    "####Team members: \n",
    "    Chris Jacobsen, Xin Tong, Ko-Chih Wang, Hujing Zhang:"
   ]
  },
  {
   "cell_type": "markdown",
   "metadata": {
    "collapsed": true
   },
   "source": [
    "<img style=\"float: left\" src=\"titleImage.png\" /> <img style=\"float: center\" src=\"titleImage2.png\" />\n"
   ]
  },
  {
   "cell_type": "markdown",
   "metadata": {},
   "source": [
    "##Outline"
   ]
  },
  {
   "cell_type": "markdown",
   "metadata": {},
   "source": [
    "* <a href='#introduction'>Introduction</a>\n",
    "* <a href='#dataloading'>Data Loading</a>\n",
    "* <a href='#glyphbased'>Glyph-based Visualization</a>\n",
    "* <a href='#interface'>Interface</a>\n",
    "* <a href='#particleRendering'>Particle Rendering</a>\n",
    "* <a href='#conclusion'>Conclusion</a>\n"
   ]
  },
  {
   "cell_type": "markdown",
   "metadata": {},
   "source": [
    "<a id='introduction'></a>\n",
    "##Introduction"
   ]
  },
  {
   "cell_type": "markdown",
   "metadata": {},
   "source": [
    "    [Xin, professor ask that why scientists want to know the velocities of the particles of a halo...if you have any idea, please add the explanation in the introduction or glyph-based visualization section]Cosmological simulations produce massive data which is challenging to analyze and visualize. Identifying dark matter halos, which correspond to galaxies and clusters of galaxies, from a large number of particles is an active topic in cosmology. Earlier halo finding algorithms, such as FOF~\\cite{Davis1985}, use the 3-dimensional (3D) particle locations as data input. The 6DFOF algorithm ~\\cite{Maciejewski2009} improves the results by including particle velocity information as another 3 dimensions. The latest algorithm, Rockstar~\\cite{Behroozi2011}, incorporates time as one additional dimension (7D in total) to allow robust tracking of halos and again improve the halo finding results.\n",
    "\n",
    "    Current visualization mainly focuses on visualizing the locations of halos and the animation of halo locations over time but rarely visualizes its velocity. However, as an important factor in a  halo finding algorithm, visualizing the velocities of halos becomes important in the cosmology analysis. Woodring \\emph{et~al.}~\\cite{Woodring2011} uses oriented ellipsoids to visualize the velocities and their uncertainty in ParaView software. Ellipsoids express an overview of the vector field in a halo, but they have limited uncertainty information and suffer from asymmetry and visual ambiguity as mentioned by Kindlmann~\\cite{Kindlmann2004}. \n",
    "\n",
    "    In this project, we propose a distribution-based superquadric glyph technique to visualize the velocity field of the halo. We use surface color texture to show the histogram of the vector field within a halo and use the glyph shape to show the principal components of the distribution as an overview. This glyph-based visualization system also allow users to navigate through the space interactively and hierarchically."
   ]
  },
  {
   "cell_type": "markdown",
   "metadata": {},
   "source": [
    "<a id='dataloading'></a>\n",
    "##Data Loading"
   ]
  },
  {
   "cell_type": "markdown",
   "metadata": {},
   "source": [
    "    The first step of this project is to understand the cosmological data. The data set provided by VisConstest 2015 is an 11 GByte dataset. It includes 100 time steps of particle data and 89 time steps of halo information, and one file describes how the halos split and merge over time. Because our project uses superquadrics to visualize the velocities of particles belonging to a halo, the first step is to use the particle and halo data sets to identify the relation between halos and particles. However, the coordinate system between the particle and halo files are different. We use the following code to convert the particle into halo coordinate system.\n",
    "    \n",
    "        if (i=0; i<n; i++) {\n",
    "          printf(\"hello %d\\n\", i);\n",
    "          x += 4;\n",
    "        }\n",
    "        \n",
    "    The xx is the particle coordinate and what is what.\n",
    "    We use the particle location, halo center and the halo radius to define whether a particle belongs to a halo. The radius of the halo is also need to convert by the following code.\n",
    "    \n",
    "        if (i=0; i<n; i++) {\n",
    "          printf(\"hello %d\\n\", i);\n",
    "          x += 4;\n",
    "        }\n",
    "        \n",
    "    After the conversion, we create the relation between the particles and halos. We also have the set of velocities of particles belonging to a halo. This is used to compute the shape and color texture of the glyphs and visualize the halo in the next section.\n",
    "    \n",
    "    In addition, we also collect the attributes (what halo it belongs to, velocity, halo radius and density) of the particles. This information is used to render the particle in <a href='#particleRendering'>Particle Rendering</a> section. The collection process of velocity of particles, halo ID and radius have been described. Here, we introduce how we compute the density of a particle. The density of the particle is a useful piece of information to define the opacity or color of a particle when rendering the particle. For example, we can give the high density of particle high opacity because a high density region means there are more particles, and it could be a halo or will form a halo. The way to define the density of particles is to compute the number of particles in the local region. We divide the whole space into a 500x500x500 grid and compute the number of particles in a single cube to define the density of particles belong to the cube. \n",
    "    \n",
    "    After we finish the data loading step and preprocess, we use the data structure and files to render the glyphs and particles without reloading the raw data and process. It makes the rendering efficient and system interactive. "
   ]
  },
  {
   "cell_type": "markdown",
   "metadata": {},
   "source": [
    "<a id='glyphbased'></a>\n",
    "##Glyph-Based Visualization"
   ]
  },
  {
   "cell_type": "markdown",
   "metadata": {},
   "source": [
    "    Superquadric Visualization Demonstration\n",
    "<iframe width=\"853\" height=\"480\" src=\"https://www.youtube.com/embed/wC8WhLhtouw\" frameborder=\"0\" allowfullscreen></iframe>"
   ]
  },
  {
   "cell_type": "markdown",
   "metadata": {
    "collapsed": true
   },
   "source": [
    "<a id='interface'></a>\n",
    "##Interface\n"
   ]
  },
  {
   "cell_type": "markdown",
   "metadata": {},
   "source": [
    "   In our application, we provide a "
   ]
  },
  {
   "cell_type": "markdown",
   "metadata": {},
   "source": [
    "<a id='particleRendering'></a>\n",
    "##Particle Rendering"
   ]
  },
  {
   "cell_type": "markdown",
   "metadata": {},
   "source": [
    "###Demonstration    \n",
    "    \n",
    "    Velocity of Particle Animation\n",
    "\n",
    "<iframe width=\"853\" height=\"480\" src=\"https://www.youtube.com/embed/WGzmbIcy4PI\" frameborder=\"0\" allowfullscreen></iframe>\n",
    "\n",
    "    Halo Merge&Split Visulized by Particle Velocity\n",
    "\n",
    "<iframe width=\"853\" height=\"480\" src=\"https://www.youtube.com/embed/yntgi89q0vc\" frameborder=\"0\" allowfullscreen></iframe>\n",
    "\n",
    "    Color by Halo ID\n",
    "    \n",
    "<iframe width=\"853\" height=\"480\" src=\"https://www.youtube.com/embed/bi981qOOdxw\" frameborder=\"0\" allowfullscreen></iframe>"
   ]
  },
  {
   "cell_type": "markdown",
   "metadata": {},
   "source": [
    "<a id='conclusion'></a>\n",
    "##Conclusion"
   ]
  }
 ],
 "metadata": {
  "kernelspec": {
   "display_name": "Python 2",
   "language": "python",
   "name": "python2"
  },
  "language_info": {
   "codemirror_mode": {
    "name": "ipython",
    "version": 2
   },
   "file_extension": ".py",
   "mimetype": "text/x-python",
   "name": "python",
   "nbconvert_exporter": "python",
   "pygments_lexer": "ipython2",
   "version": "2.7.9"
  }
 },
 "nbformat": 4,
 "nbformat_minor": 0
}
